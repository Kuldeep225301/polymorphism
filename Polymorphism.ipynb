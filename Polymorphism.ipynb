{
 "cells": [
  {
   "cell_type": "code",
   "execution_count": 8,
   "id": "fe8ecc9d-e087-41bf-ba21-bbe45eedd547",
   "metadata": {
    "tags": []
   },
   "outputs": [],
   "source": [
    "def test(a,b):\n",
    "    return a+b"
   ]
  },
  {
   "cell_type": "code",
   "execution_count": 9,
   "id": "4fc4e74c-a29c-4a98-b37d-d53915a2b038",
   "metadata": {
    "tags": []
   },
   "outputs": [
    {
     "data": {
      "text/plain": [
       "17"
      ]
     },
     "execution_count": 9,
     "metadata": {},
     "output_type": "execute_result"
    }
   ],
   "source": [
    "test(8,9)"
   ]
  },
  {
   "cell_type": "code",
   "execution_count": 13,
   "id": "b34630c4-5376-4dcb-8294-44d52a5ffbb2",
   "metadata": {
    "tags": []
   },
   "outputs": [
    {
     "data": {
      "text/plain": [
       "'kuldeep kumar'"
      ]
     },
     "execution_count": 13,
     "metadata": {},
     "output_type": "execute_result"
    }
   ],
   "source": [
    "test(\"kuldeep \" , \"kumar\")"
   ]
  },
  {
   "cell_type": "code",
   "execution_count": 14,
   "id": "13eaaaf8-4258-4e91-9079-df48d2eaf4b7",
   "metadata": {
    "tags": []
   },
   "outputs": [
    {
     "data": {
      "text/plain": [
       "[2, 3, 4, 5, 6, 78, 67, 45, 23]"
      ]
     },
     "execution_count": 14,
     "metadata": {},
     "output_type": "execute_result"
    }
   ],
   "source": [
    "test([2,3,4,5,6],[78,67,45,23])"
   ]
  },
  {
   "cell_type": "code",
   "execution_count": 15,
   "id": "e7c537df-8006-4381-8129-e6e6ddf12bed",
   "metadata": {
    "tags": []
   },
   "outputs": [],
   "source": [
    "class data_science:\n",
    "    def syllabus(self):\n",
    "        print(\"THis is my syllabus for data science masters\")"
   ]
  },
  {
   "cell_type": "code",
   "execution_count": 16,
   "id": "84163bbc-325a-4089-9a5c-5175e9831f31",
   "metadata": {
    "tags": []
   },
   "outputs": [],
   "source": [
    "class web_dev:\n",
    "    def syllabus(self):\n",
    "        print(\"THis is my syllabus for web dev\")"
   ]
  },
  {
   "cell_type": "code",
   "execution_count": 17,
   "id": "023d9292-dce0-4cf1-8da8-4b7fac2b4f5e",
   "metadata": {
    "tags": []
   },
   "outputs": [],
   "source": [
    "def class_percer(class_obj):\n",
    "    for i in class_obj :\n",
    "        i.syllabus()"
   ]
  },
  {
   "cell_type": "code",
   "execution_count": 18,
   "id": "e412c2c3-9b20-4ebb-86fd-9ccc93234060",
   "metadata": {
    "tags": []
   },
   "outputs": [],
   "source": [
    "data_science = data_science()"
   ]
  },
  {
   "cell_type": "code",
   "execution_count": 19,
   "id": "a1f1dc68-67cc-4de6-b974-7f7c1edab17c",
   "metadata": {
    "tags": []
   },
   "outputs": [],
   "source": [
    "web_dev = web_dev()"
   ]
  },
  {
   "cell_type": "code",
   "execution_count": 20,
   "id": "7ee867bf-23eb-42a9-a503-5697d464034c",
   "metadata": {
    "tags": []
   },
   "outputs": [],
   "source": [
    "class_obj = [data_science,web_dev]"
   ]
  },
  {
   "cell_type": "code",
   "execution_count": 21,
   "id": "c0b6dada-1036-4b09-8fda-42d3f9b5a873",
   "metadata": {
    "tags": []
   },
   "outputs": [
    {
     "name": "stdout",
     "output_type": "stream",
     "text": [
      "THis is my syllabus for data science masters\n",
      "THis is my syllabus for web dev\n"
     ]
    }
   ],
   "source": [
    "class_percer(class_obj)"
   ]
  },
  {
   "cell_type": "code",
   "execution_count": null,
   "id": "76384b6a-5abd-462b-9d44-8baaddfecd59",
   "metadata": {},
   "outputs": [],
   "source": []
  }
 ],
 "metadata": {
  "kernelspec": {
   "display_name": "Python 3 (ipykernel)",
   "language": "python",
   "name": "python3"
  },
  "language_info": {
   "codemirror_mode": {
    "name": "ipython",
    "version": 3
   },
   "file_extension": ".py",
   "mimetype": "text/x-python",
   "name": "python",
   "nbconvert_exporter": "python",
   "pygments_lexer": "ipython3",
   "version": "3.11.5"
  }
 },
 "nbformat": 4,
 "nbformat_minor": 5
}
